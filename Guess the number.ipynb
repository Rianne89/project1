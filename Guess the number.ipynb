{
 "cells": [
  {
   "cell_type": "markdown",
   "metadata": {},
   "source": [
    "# Guess the number\n",
    "\n",
    "Guess the secret number the computer picked. You have 5 chances. If your guess is too high or too low, you'll get a hint."
   ]
  },
  {
   "cell_type": "code",
   "execution_count": 1,
   "metadata": {},
   "outputs": [],
   "source": [
    "# x = ask the computer to randomly pick a number (integer) between 1 - 10\n",
    "# y = ask the player to choose a number (integer) between 1 - 10\n",
    "# z = attempts\n",
    "# Compare player number (y) to computer number (x):\n",
    "    # if y == x: game ends. Player wins. Tell how many turns it took to guess the number.\n",
    "    # if x < y: \n",
    "        # Hint to player. \"Try again: lower\"\n",
    "        # Ask for new input\n",
    "    # if x > y:\n",
    "        # Hint to player. \"Try again: higher\"\n",
    "        # Ask for new input\n",
    "# Go over this loop again, until player number == computer number"
   ]
  },
  {
   "cell_type": "code",
   "execution_count": 2,
   "metadata": {},
   "outputs": [],
   "source": [
    "#First import random to make sure the computer randomly picks a number\n",
    "import random"
   ]
  },
  {
   "cell_type": "code",
   "execution_count": 3,
   "metadata": {},
   "outputs": [],
   "source": [
    "#Create a list of numbers to choose from (in this case 1-10)\n",
    "numbers = [i for i in range(1,11)]"
   ]
  },
  {
   "cell_type": "code",
   "execution_count": 15,
   "metadata": {},
   "outputs": [],
   "source": [
    "#Create a variable for number attempts\n",
    "attempts = 0"
   ]
  },
  {
   "cell_type": "code",
   "execution_count": 16,
   "metadata": {},
   "outputs": [],
   "source": [
    "#Make the computer pick a number\n",
    "cpu_input = random.choice(numbers)"
   ]
  },
  {
   "cell_type": "code",
   "execution_count": null,
   "metadata": {},
   "outputs": [],
   "source": [
    "#As long as the player doens't guess the number right, the while loop continues (with a maximum of 5 guesses)\n",
    "while attempts < 5"
   ]
  },
  {
   "cell_type": "code",
   "execution_count": 12,
   "metadata": {},
   "outputs": [
    {
     "name": "stdout",
     "output_type": "stream",
     "text": [
      "Please pick a number between 1 - 10 and press enter:34\n"
     ]
    }
   ],
   "source": [
    "#Ask the player to pick a number\n",
    "player_input = int(input(\"Please pick a number between 1 - 10 and press enter:\"))"
   ]
  },
  {
   "cell_type": "code",
   "execution_count": 13,
   "metadata": {},
   "outputs": [
    {
     "name": "stdout",
     "output_type": "stream",
     "text": [
      "That's not a number between 1 - 10, please try again!\n"
     ]
    }
   ],
   "source": [
    "if player_input not in (numbers):\n",
    "    print(\"That's not a number between 1 - 10, please try again!\")"
   ]
  },
  {
   "cell_type": "code",
   "execution_count": 11,
   "metadata": {},
   "outputs": [
    {
     "name": "stdout",
     "output_type": "stream",
     "text": [
      "Nope, that's not right. Please try again and pick a higher number.\n"
     ]
    }
   ],
   "source": [
    "# Compare player number to computer number:\n",
    "    # if they are the same: game ends. Congratulate the player. Tell how many turns it took to guess the number.\n",
    "\n",
    "if cpu_input == player_input:\n",
    "    print(\"Yes, you guessed right! Congratulations.\")\n",
    "    \n",
    "elif cpu_input < player_input:\n",
    "    print(\"Nope, that's not right. Please try again and pick a lower number.\")\n",
    "\n",
    "elif cpu_input > player_input:\n",
    "    print(\"Nope, that's not right. Please try again and pick a higher number.\")\n",
    "\n",
    "else:\n",
    "    print(\"Something's going wrong\")"
   ]
  },
  {
   "cell_type": "code",
   "execution_count": null,
   "metadata": {},
   "outputs": [],
   "source": []
  }
 ],
 "metadata": {
  "kernelspec": {
   "display_name": "Python 3",
   "language": "python",
   "name": "python3"
  },
  "language_info": {
   "codemirror_mode": {
    "name": "ipython",
    "version": 3
   },
   "file_extension": ".py",
   "mimetype": "text/x-python",
   "name": "python",
   "nbconvert_exporter": "python",
   "pygments_lexer": "ipython3",
   "version": "3.7.6"
  }
 },
 "nbformat": 4,
 "nbformat_minor": 4
}
