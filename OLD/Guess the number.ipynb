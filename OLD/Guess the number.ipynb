{
 "cells": [
  {
   "cell_type": "markdown",
   "metadata": {},
   "source": [
    "# Guess the number\n",
    "\n",
    "Guess the secret number the computer picked. You have 5 chances. If your guess is too high or too low, you'll get a hint."
   ]
  },
  {
   "cell_type": "code",
   "execution_count": null,
   "metadata": {},
   "outputs": [],
   "source": [
    "# Aks players name for a personal experience\n",
    "# x = ask the computer to randomly pick a number (integer) between 1 - 10\n",
    "# y = ask the player to choose a number (integer) between 1 - 10\n",
    "# z = attempts\n",
    "# Compare player number (y) to computer number (x):\n",
    "    # if y == x: game ends. Player wins. Tell how many turns it took to guess the number.\n",
    "    # if x < y: hint to player. \"Try again: lower\"\n",
    "        # Ask for new input\n",
    "    # if x > y:\n",
    "        # Hint to player. \"Try again: higher\"\n",
    "        # Ask for new input\n",
    "# Go over this loop again, until player number == computer number\n",
    "# If the player doens't guess right in 5 turns, game ends\n",
    "\n",
    "#First import random to make sure the computer randomly picks a number\n",
    "import random\n",
    "\n",
    "# Aks players name for a personal experience\n",
    "name = input(str(\"Hi! My name is Rianne. What's yours? \"))\n",
    "\n",
    "#Create a list of numbers to choose from (in this case 1-10)\n",
    "numbers = [i for i in range(1,11)]\n",
    "\n",
    "#Create a variable for number attempts\n",
    "attempts = 0\n",
    "\n",
    "#Make the computer pick a number\n",
    "number = random.choice(numbers)\n",
    "\n",
    "print(\"Hi\",name,\"let's start. You have 5 chances to guess the number I'm thinking off.\")\n",
    "\n",
    "while attempts < 5:\n",
    "    print(\"Take a guess!\")\n",
    "    guess = input()\n",
    "    guess = int(guess)\n",
    "    \n",
    "    attempts = attempts + 1\n",
    "    \n",
    "    if guess < number:\n",
    "        print(\"Too low!\")\n",
    "\n",
    "    if guess > number:\n",
    "        print(\"Too high!\")\n",
    "    \n",
    "    if guess == number:\n",
    "        break\n",
    "\n",
    "if guess == number:\n",
    "    print(\"Good job! It took only \",attempts, \" attempts to guess right!\")\n",
    "\n",
    "if guess != number:\n",
    "    print(\"Nope sorry! The number I was thinking of:\",number)\n",
    "\n",
    "input(str(\"Do you want to play again? Yes: press 1, No: press 2 (followed by enter)\"))"
   ]
  },
  {
   "cell_type": "code",
   "execution_count": null,
   "metadata": {},
   "outputs": [],
   "source": []
  }
 ],
 "metadata": {
  "kernelspec": {
   "display_name": "Python 3",
   "language": "python",
   "name": "python3"
  },
  "language_info": {
   "codemirror_mode": {
    "name": "ipython",
    "version": 3
   },
   "file_extension": ".py",
   "mimetype": "text/x-python",
   "name": "python",
   "nbconvert_exporter": "python",
   "pygments_lexer": "ipython3",
   "version": "3.7.6"
  }
 },
 "nbformat": 4,
 "nbformat_minor": 4
}
