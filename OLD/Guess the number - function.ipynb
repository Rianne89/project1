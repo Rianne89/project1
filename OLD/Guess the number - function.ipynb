{
 "cells": [
  {
   "cell_type": "markdown",
   "metadata": {},
   "source": [
    "# Guess the number\n",
    "\n",
    "Guess the secret number the computer picked. You have 5 chances. If your guess is too high or too low, you'll get a hint."
   ]
  },
  {
   "cell_type": "code",
   "execution_count": 1,
   "metadata": {},
   "outputs": [],
   "source": [
    "#First import random to make sure the computer randomly picks a number\n",
    "import random"
   ]
  },
  {
   "cell_type": "code",
   "execution_count": 2,
   "metadata": {},
   "outputs": [
    {
     "name": "stdout",
     "output_type": "stream",
     "text": [
      "Hi! My name is Rianne. What's yours? Rianne\n"
     ]
    }
   ],
   "source": [
    "# Aks players name for a personal experience\n",
    "name = input(str(\"Hi! My name is Rianne. What's yours? \"))"
   ]
  },
  {
   "cell_type": "code",
   "execution_count": 3,
   "metadata": {},
   "outputs": [],
   "source": [
    "#Create a list of numbers to choose from (in this case 1-10)\n",
    "numbers = [i for i in range(1,11)]"
   ]
  },
  {
   "cell_type": "code",
   "execution_count": 4,
   "metadata": {},
   "outputs": [],
   "source": [
    "#Create a variable for number attempts\n",
    "attempts = 0"
   ]
  },
  {
   "cell_type": "code",
   "execution_count": 5,
   "metadata": {},
   "outputs": [],
   "source": [
    "#Make the computer pick a random number\n",
    "number = random.choice(numbers)"
   ]
  },
  {
   "cell_type": "code",
   "execution_count": 6,
   "metadata": {},
   "outputs": [],
   "source": [
    "#Function to create random number and compares to user input\n",
    "def function(a, number):\n",
    "    \"\"\"\n",
    "    Inputs: random number, input player\n",
    "    Outputs: True/False comparing number with guess\n",
    "    \"\"\"\n",
    "    if a == number:\n",
    "        return print(\"Good job! It took only \",attempts, \" attempts to guess right!\")\n",
    "    \n",
    "    if a < number:\n",
    "        return print(\"That's too low. Try again!\")\n",
    "    \n",
    "    if a > number:\n",
    "        return print(\"That's too high. Try again!\")"
   ]
  },
  {
   "cell_type": "code",
   "execution_count": 7,
   "metadata": {},
   "outputs": [
    {
     "name": "stdout",
     "output_type": "stream",
     "text": [
      "Hi Rianne let's start. You have 5 chances to guess the number I'm thinking off.\n"
     ]
    }
   ],
   "source": [
    "#Welcoming the player\n",
    "print(\"Hi\",name,\"let's start. You have 5 chances to guess the number I'm thinking off.\")"
   ]
  },
  {
   "cell_type": "code",
   "execution_count": 8,
   "metadata": {},
   "outputs": [
    {
     "name": "stdout",
     "output_type": "stream",
     "text": [
      "Take a guess!\n"
     ]
    }
   ],
   "source": [
    "print(\"Take a guess!\")"
   ]
  },
  {
   "cell_type": "code",
   "execution_count": 9,
   "metadata": {},
   "outputs": [
    {
     "name": "stdout",
     "output_type": "stream",
     "text": [
      "5\n",
      "That's too low. Try again!\n",
      "8\n",
      "That's too low. Try again!\n",
      "9\n",
      "That's too low. Try again!\n",
      "10\n",
      "Good job! It took only  4  attempts to guess right!\n"
     ]
    }
   ],
   "source": [
    "while attempts < 5:\n",
    "    guess = input()\n",
    "    guess = int(guess)\n",
    "    attempts = attempts + 1\n",
    "    \n",
    "    function(guess, number)\n",
    "    \n",
    "    if guess == number:\n",
    "        break"
   ]
  },
  {
   "cell_type": "code",
   "execution_count": 11,
   "metadata": {},
   "outputs": [
    {
     "name": "stdout",
     "output_type": "stream",
     "text": [
      "Press 1 to play again, press 2 to exit (followed by enter)2\n"
     ]
    },
    {
     "data": {
      "text/plain": [
       "'2'"
      ]
     },
     "execution_count": 11,
     "metadata": {},
     "output_type": "execute_result"
    }
   ],
   "source": [
    "input(str(\"Press 1 to play again, press 2 to exit (followed by enter)\"))"
   ]
  },
  {
   "cell_type": "code",
   "execution_count": null,
   "metadata": {},
   "outputs": [],
   "source": []
  }
 ],
 "metadata": {
  "kernelspec": {
   "display_name": "Python 3",
   "language": "python",
   "name": "python3"
  },
  "language_info": {
   "codemirror_mode": {
    "name": "ipython",
    "version": 3
   },
   "file_extension": ".py",
   "mimetype": "text/x-python",
   "name": "python",
   "nbconvert_exporter": "python",
   "pygments_lexer": "ipython3",
   "version": "3.7.6"
  }
 },
 "nbformat": 4,
 "nbformat_minor": 4
}
