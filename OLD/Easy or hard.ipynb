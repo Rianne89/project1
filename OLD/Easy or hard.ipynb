{
 "cells": [
  {
   "cell_type": "markdown",
   "metadata": {},
   "source": [
    "# Guess the number\n",
    "\n",
    "Guess the secret number the computer picked. You have 5 chances. If your guess is too high or too low, you'll get a hint."
   ]
  },
  {
   "cell_type": "code",
   "execution_count": 8,
   "metadata": {},
   "outputs": [],
   "source": [
    "# Aks players name for a personal experience\n",
    "# x = ask the computer to randomly pick a number (integer) between 1 - 10\n",
    "# y = ask the player to choose a number (integer) between 1 - 10\n",
    "# z = attempts\n",
    "# Compare player number (y) to computer number (x):\n",
    "    # if y == x: game ends. Player wins. Tell how many turns it took to guess the number.\n",
    "    # if x < y: hint to player. \"Try again: lower\"\n",
    "        # Ask for new input\n",
    "    # if x > y:\n",
    "        # Hint to player. \"Try again: higher\"\n",
    "        # Ask for new input\n",
    "# Go over this loop again, until player number == computer number\n",
    "# If the player doens't guess right in 5 turns, game ends"
   ]
  },
  {
   "cell_type": "code",
   "execution_count": 9,
   "metadata": {},
   "outputs": [],
   "source": [
    "#First import random to make sure the computer randomly picks a number\n",
    "import random"
   ]
  },
  {
   "cell_type": "code",
   "execution_count": null,
   "metadata": {},
   "outputs": [],
   "source": [
    "# Aks players name for a personal experience\n",
    "name = input(str(\"Hi! My name is Rianne. What's yours? \"))"
   ]
  },
  {
   "cell_type": "code",
   "execution_count": null,
   "metadata": {},
   "outputs": [],
   "source": [
    "print(\"Hi\", name, \"nice to meet you. Would you play the easy game (please press 1), or the hard game (please press 2)?\")"
   ]
  },
  {
   "cell_type": "code",
   "execution_count": null,
   "metadata": {},
   "outputs": [],
   "source": [
    "easy_hard = input(\"Choose your game:\")"
   ]
  },
  {
   "cell_type": "code",
   "execution_count": null,
   "metadata": {},
   "outputs": [],
   "source": [
    "if easy_hard == 1:\n",
    "    print(\"You chose the easy game\")\n",
    "        \n",
    "if easy_hard == 2:\n",
    "     print(\"You chose the hard game\")\n",
    "        \n",
    "else:\n",
    "    easy_hard = input(\"Choose your game (press 1 or 2):\")"
   ]
  },
  {
   "cell_type": "code",
   "execution_count": 12,
   "metadata": {},
   "outputs": [],
   "source": [
    "#Create a list of numbers to choose from (in this case 1-10)\n",
    "numbers = [i for i in range(1,11)]"
   ]
  },
  {
   "cell_type": "code",
   "execution_count": null,
   "metadata": {},
   "outputs": [],
   "source": []
  },
  {
   "cell_type": "code",
   "execution_count": 13,
   "metadata": {},
   "outputs": [],
   "source": [
    "#Create a variable for number attempts\n",
    "attempts = 0"
   ]
  },
  {
   "cell_type": "code",
   "execution_count": 5,
   "metadata": {},
   "outputs": [],
   "source": [
    "#Make the computer pick a number\n",
    "number = random.choice(numbers)"
   ]
  },
  {
   "cell_type": "code",
   "execution_count": 6,
   "metadata": {},
   "outputs": [
    {
     "name": "stdout",
     "output_type": "stream",
     "text": [
      "Take a guess.\n",
      "5\n",
      "Good job! You guessed my number in 1 guesses!\n"
     ]
    }
   ],
   "source": [
    "while attempts < 5:\n",
    "    print('Take a guess.')\n",
    "    guess = input()\n",
    "    guess = int(guess)\n",
    "    \n",
    "    attempts = attempts + 1\n",
    "    \n",
    "    if guess < number:\n",
    "        print('Your guess is too low.')\n",
    "    \n",
    "    if guess > number:\n",
    "        print('Your guess is too high.')\n",
    "    \n",
    "    if guess == number:\n",
    "        break\n",
    "\n",
    "if guess == number:\n",
    "    attempts = str(attempts)\n",
    "    print('Good job! You guessed my number in ' + attempts + ' guesses!')\n",
    "\n",
    "if guess != number:\n",
    "    number = str(number)\n",
    "    print('Nope. The number I was thinking of was ' + number)"
   ]
  },
  {
   "cell_type": "code",
   "execution_count": null,
   "metadata": {},
   "outputs": [],
   "source": []
  }
 ],
 "metadata": {
  "kernelspec": {
   "display_name": "Python 3",
   "language": "python",
   "name": "python3"
  },
  "language_info": {
   "codemirror_mode": {
    "name": "ipython",
    "version": 3
   },
   "file_extension": ".py",
   "mimetype": "text/x-python",
   "name": "python",
   "nbconvert_exporter": "python",
   "pygments_lexer": "ipython3",
   "version": "3.7.6"
  }
 },
 "nbformat": 4,
 "nbformat_minor": 4
}
