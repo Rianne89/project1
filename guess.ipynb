{
 "cells": [
  {
   "cell_type": "markdown",
   "metadata": {},
   "source": [
    "# Guess the number\n",
    "\n",
    "Guess the secret number the computer picked. You have 5 chances. If your guess is too high or too low, you'll get a hint."
   ]
  },
  {
   "cell_type": "code",
   "execution_count": null,
   "metadata": {},
   "outputs": [],
   "source": [
    "#First import random to make sure the computer randomly picks a number\n",
    "import random\n",
    "\n",
    "# Aks players name for a personal experience\n",
    "name = input(str(\"Hi! My name is Rianne. What's yours? \"))\n",
    "\n",
    "#Create a list of numbers to choose from (in this case 1-10)\n",
    "numbers = [i for i in range(1,11)]\n",
    "\n",
    "#Create a variable for number attempts\n",
    "attempts = 0\n",
    "\n",
    "#Make the computer pick a random number\n",
    "number = random.choice(numbers)\n",
    "\n",
    "#Function to create random number and compares to user input\n",
    "def function(a, number):\n",
    "    \"\"\"\n",
    "    Inputs: random number, input player\n",
    "    Outputs: True/False comparing number with guess\n",
    "    \"\"\"\n",
    "    if a == number:\n",
    "        return print(\"Good job! It took only \",attempts, \" attempts to guess right!\")\n",
    "    \n",
    "    if a < number:\n",
    "        return print(\"That's too low. Try again!\")\n",
    "    \n",
    "    if a > number:\n",
    "        return print(\"That's too high. Try again!\")\n",
    "\n",
    "#Welcoming the player\n",
    "print(\"Hi\",name,\"let's start. You have 5 chances to guess the number I'm thinking off. /nTake a guess!\")\n",
    "\n",
    "while attempts < 5:\n",
    "    guess = input()\n",
    "    guess = int(guess)\n",
    "    attempts = attempts + 1\n",
    "    \n",
    "    function(guess, number)\n",
    "    \n",
    "    if guess == number:\n",
    "        break\n",
    "\n",
    "play_again = input(str(\"Want to play again? Enter 1. \\nWant to exit the game? Enter 2.\"))\n",
    "\n",
    "if play_again == 1:\n",
    "    print(\"Hi\",name,\"let's start. You have 5 chances to guess the number I'm thinking off. /nTake a guess!\")\n",
    "\n",
    "if play_again == 2:\n",
    "    while attempts < 5:\n",
    "        guess = input()\n",
    "        guess = int(guess)\n",
    "        attempts = attempts + 1\n",
    "\n",
    "        function(guess, number)\n",
    "\n",
    "        if guess == number:\n",
    "            break"
   ]
  }
 ],
 "metadata": {
  "kernelspec": {
   "display_name": "Python 3",
   "language": "python",
   "name": "python3"
  },
  "language_info": {
   "codemirror_mode": {
    "name": "ipython",
    "version": 3
   },
   "file_extension": ".py",
   "mimetype": "text/x-python",
   "name": "python",
   "nbconvert_exporter": "python",
   "pygments_lexer": "ipython3",
   "version": "3.7.6"
  }
 },
 "nbformat": 4,
 "nbformat_minor": 4
}
